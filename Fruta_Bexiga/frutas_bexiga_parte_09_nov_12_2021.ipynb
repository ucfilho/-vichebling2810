{
  "nbformat": 4,
  "nbformat_minor": 0,
  "metadata": {
    "colab": {
      "name": "frutas_bexiga_parte_09_nov_12_2021.ipynb",
      "provenance": [],
      "collapsed_sections": [],
      "include_colab_link": true
    },
    "kernelspec": {
      "name": "python3",
      "display_name": "Python 3"
    },
    "language_info": {
      "name": "python"
    }
  },
  "cells": [
    {
      "cell_type": "markdown",
      "metadata": {
        "id": "view-in-github",
        "colab_type": "text"
      },
      "source": [
        "<a href=\"https://colab.research.google.com/github/ucfilho/vichebling2810/blob/main/Fruta_Bexiga/frutas_bexiga_parte_09_nov_12_2021.ipynb\" target=\"_parent\"><img src=\"https://colab.research.google.com/assets/colab-badge.svg\" alt=\"Open In Colab\"/></a>"
      ]
    },
    {
      "cell_type": "code",
      "metadata": {
        "id": "7ze3i4b9-WH1"
      },
      "source": [
        "# parte 1- le os arquivos e separa eles em a e b (a frutas deitadas e b sao as frusta em pe)\n",
        "# parte 2- usa o filtro\n",
        "# parte 3- calcula o volume : para um objeto\n",
        "# parte 4- para todos objetos\n",
        "# parte 5- explora tecnicas para melhorar o volume\n",
        "# parte 6 - adiciona o volume falso como coluna para X tentativa de melhorar calc\n",
        "# parte 7 - inicia calcular as areas\n",
        "# parte 8- identica a parte 7 mas em rotina para duas orientacoes (up e down)\n",
        "# parte 9 - ANN com as novas variaveis de area"
      ],
      "execution_count": 1,
      "outputs": []
    },
    {
      "cell_type": "code",
      "metadata": {
        "id": "hW2vxhnRvPVz"
      },
      "source": [
        "from matplotlib import pyplot as plt\n",
        "from PIL import Image\n",
        "import numpy as np\n",
        "import pandas as pd\n",
        "import os \n",
        "import cv2\n",
        "import re, random\n",
        "from skimage import feature\n",
        "from sklearn.neural_network import MLPClassifier\n",
        "from sklearn import preprocessing\n",
        "from sklearn.model_selection import train_test_split\n",
        "from sklearn.metrics import classification_report\n",
        "import random\n",
        "from sklearn.neural_network import MLPRegressor\n",
        "from sklearn.model_selection import train_test_split\n",
        "from sklearn import preprocessing\n",
        "from sklearn.metrics import mean_squared_error\n",
        "from sklearn.metrics import r2_score "
      ],
      "execution_count": 2,
      "outputs": []
    },
    {
      "cell_type": "code",
      "metadata": {
        "colab": {
          "base_uri": "https://localhost:8080/"
        },
        "id": "TwhExglZvRuQ",
        "outputId": "561659b0-9d9f-4984-fc69-74f88f45299b"
      },
      "source": [
        "!gdown --id 1PbOf7-WA_t4FKOGkOgIi3dioOxaOr6Q_"
      ],
      "execution_count": 3,
      "outputs": [
        {
          "output_type": "stream",
          "name": "stdout",
          "text": [
            "Downloading...\n",
            "From: https://drive.google.com/uc?id=1PbOf7-WA_t4FKOGkOgIi3dioOxaOr6Q_\n",
            "To: /content/Bexigas.zip\n",
            "100% 229M/229M [00:01<00:00, 132MB/s]\n"
          ]
        }
      ]
    },
    {
      "cell_type": "code",
      "metadata": {
        "id": "jGJnpGo4viwU"
      },
      "source": [
        "import zipfile\n",
        "file_name = zipfile.ZipFile('Bexigas.zip', 'r')\n",
        "file_name.extractall()"
      ],
      "execution_count": 4,
      "outputs": []
    },
    {
      "cell_type": "code",
      "metadata": {
        "id": "yUVqk2GGvnCB"
      },
      "source": [
        "FILE='Bexigas.zip'\n",
        "img_name=[]\n",
        "x_original = [] \n",
        "\n",
        "ref ='jpg'\n",
        "data_file ='xlsx'\n",
        "\n",
        "with zipfile.ZipFile(FILE, \"r\") as f:\n",
        "    for name in f.namelist():\n",
        "      if(name[-3:]==ref):\n",
        "        img_name.append(name)\n",
        "        #x_original.append(cv2.resize(cv2.imread(name),(60,80)))\n",
        "        x_original.append(cv2.resize(cv2.imread(name,0),(60,80)))\n",
        "      else:\n",
        "        if(name[-4:] == data_file):\n",
        "          df =pd.read_excel(name)\n"
      ],
      "execution_count": 5,
      "outputs": []
    },
    {
      "cell_type": "code",
      "metadata": {
        "id": "0MklRIT77qD2"
      },
      "source": [
        "name_down=[]  # down representa as frutas deitadas\n",
        "original_down = [] \n",
        "name_up=[] # down representa as frutas em pe\n",
        "original_up= [] "
      ],
      "execution_count": 6,
      "outputs": []
    },
    {
      "cell_type": "code",
      "metadata": {
        "id": "33_sR26h7ldr"
      },
      "source": [
        "k = 0\n",
        "for name in img_name:\n",
        "  if(name[-5]=='a'):\n",
        "    name_up.append(name)\n",
        "    original_up.append(x_original[k])\n",
        "  else:\n",
        "    name_down.append(name)\n",
        "    original_down.append(x_original[k])\n",
        "  k = k +1\n"
      ],
      "execution_count": 7,
      "outputs": []
    },
    {
      "cell_type": "code",
      "metadata": {
        "id": "D-nQQ2PVGXM_"
      },
      "source": [
        "def get_dimension(img):\n",
        "  im = img\n",
        "  # Compute the Canny filter for two values of sigma\n",
        "  edges1 = feature.canny(im)\n",
        "  edges2 = feature.canny(im, sigma=3)\n",
        "  nrows,ncols =edges2.shape\n",
        "  Foto = np.ones((nrows,ncols))*255\n",
        "  for i in range(nrows):\n",
        "    for j in range(ncols):\n",
        "      if edges2[i,j] == True:\n",
        "        Foto[i,j]=0\n",
        "  Foto = Foto.astype(int)\n",
        "# calculo do raio horizontal\n",
        "  Quadrado = []\n",
        "  Raio = []\n",
        "  for i in range(nrows):\n",
        "    values = np.zeros(4)\n",
        "    k = -1\n",
        "    for j in range(1,ncols):\n",
        "      if(Foto[i,j-1]==255 and Foto[i,j]==0):\n",
        "        if(k<3):\n",
        "          k = k+1\n",
        "          values[k]=j\n",
        "    L = values[3] - values[0]\n",
        "    d = values[2] - values[1]\n",
        "    Quadrado.append(L)\n",
        "    Raio.append(d)\n",
        "  L = np.array(Quadrado).max()\n",
        "  Raio = np.array(Raio).max()\n",
        "  medida = Raio/L*14.5\n",
        "  return medida,Foto\n"
      ],
      "execution_count": 8,
      "outputs": []
    },
    {
      "cell_type": "code",
      "metadata": {
        "id": "OTv8A0FLQALl"
      },
      "source": [
        "def area_fruta(img):\n",
        "  (rows, cols) =img.shape\n",
        "\n",
        "  img_fruit = np.zeros(img.shape,np.uint8) \n",
        "\n",
        "  for i in range(rows):\n",
        "    for j in range(cols):\n",
        "      if(img[i,j]>100):\n",
        "        img[i,j]=0\n",
        "\n",
        "\n",
        "  for i in range(rows):\n",
        "    for j in range(cols):\n",
        "      if(img[i,j]>0):\n",
        "        img[i,j]=255\n",
        "        img_fruit[i,j]=255\n",
        "\n",
        "  xi=0;xf=0;yi=0;yf=0;\n",
        "  jref=int(cols/2)\n",
        "  iref=int(rows/2)\n",
        "\n",
        "  for i in range(rows):\n",
        "    j = jref\n",
        "    if(img[i,j]>0):\n",
        "      if(xi==0):\n",
        "        xi = i\n",
        "      else:\n",
        "        xf = i\n",
        "  for j in range(cols):\n",
        "    i = iref\n",
        "    if(img[i,j]>0):\n",
        "      if(yi==0):\n",
        "        yi = j\n",
        "      else:\n",
        "        yf = j\n",
        "\n",
        "  for i in range(rows):\n",
        "    for j in range(cols):\n",
        "      if(i > xi and i < xf and j>yi and j < yf):\n",
        "        img[i,j]=255\n",
        "\n",
        "    area = 1-np.sum(img_fruit.ravel())/np.sum(img.ravel())\n",
        "\n",
        "  return area"
      ],
      "execution_count": 9,
      "outputs": []
    },
    {
      "cell_type": "code",
      "metadata": {
        "id": "vf2wrTewQDVX"
      },
      "source": [
        ""
      ],
      "execution_count": 9,
      "outputs": []
    },
    {
      "cell_type": "code",
      "metadata": {
        "id": "7qgS1SiEhwQ2"
      },
      "source": [
        "(num,l,w)=np.array(original_down).shape"
      ],
      "execution_count": 10,
      "outputs": []
    },
    {
      "cell_type": "code",
      "metadata": {
        "id": "1kNAz7DNiLvK"
      },
      "source": [
        "dimensao =[]\n",
        "for i in range(num):\n",
        "  lista =[]\n",
        "  Ind = i\n",
        "  img= original_up[Ind]\n",
        "  medida1,foto = get_dimension(img)\n",
        "  lista.append(medida1)\n",
        "  img = img.transpose()\n",
        "  medida2,foto = get_dimension(img)\n",
        "  lista.append(medida2)\n",
        "  img2= original_down[Ind]\n",
        "  medida3,foto = get_dimension(img2)\n",
        "  lista.append(medida3)\n",
        "  img2 = img2.transpose()\n",
        "  medida4,foto = get_dimension(img2)\n",
        "  lista.append(medida4)\n",
        "  dimensao.append(lista)\n"
      ],
      "execution_count": 11,
      "outputs": []
    },
    {
      "cell_type": "code",
      "metadata": {
        "id": "qYne_qV_QNvN"
      },
      "source": [
        "area_up =[]\n",
        "area_down =[]\n",
        "for i in range(num):\n",
        "  lista =[]\n",
        "  Ind = i\n",
        "  img= original_up[Ind]\n",
        "  area = area_fruta(img)\n",
        "  area_up.append(area)\n",
        "  img= original_down[Ind]\n",
        "  area = area_fruta(img)\n",
        "  area_down.append(area)"
      ],
      "execution_count": 12,
      "outputs": []
    },
    {
      "cell_type": "code",
      "metadata": {
        "colab": {
          "base_uri": "https://localhost:8080/"
        },
        "id": "xBwn1C7gQURt",
        "outputId": "7ce434d0-906a-42f4-e4e0-76e78564f1fd"
      },
      "source": [
        "print(area_up)"
      ],
      "execution_count": 13,
      "outputs": [
        {
          "output_type": "stream",
          "name": "stdout",
          "text": [
            "[0.14885496183206104, 0.19602698650674666, 0.12139605462822456, 0.12443095599393017, 0.13572778827977316, 0.10839694656488552, 0.10218140068886339, 0.09938837920489296, 0.07390300230946878, 0.09337466098411473, 0.1214230471771075, 0.12259800153727907, 0.09343629343629345, 0.12634822804314327, 0.145616067979915, 0.10528345545699958, 0.06254709871891484, 0.06160954948016939, 0.0906656465187452, 0.14071510957324107, 0.048461538461538445, 0.0565819861431871, 0.08905165767154977, 0.1307037896365043, 0.07557251908396945, 0.12811660912926737, 0.09399075500770415, 0.06994619523443502, 0.1210363495746326, 0.10674373795761083, 0.13711857860177679, 0.11880046136101496, 0.08349365140438625, 0.08842752787389463, 0.05809926894959605, 0.06461538461538463, 0.08630609896432684, 0.09919261822376013, 0.13522858240491742, 0.1376811594202898, 0.04854740061162077, 0.06791301030141172, 0.09334353481254787, 0.07639419404125292, 0.09827915869980874, 0.10377718428080884, 0.06233269598470359, 0.06498470948012236, 0.11106855610877053, 0.12155963302752293, 0.08600917431192656, 0.051223241590214075, 0.09984579799537396, 0.13050193050193049, 0.10867052023121382, 0.10666153253754329, 0.13387660069848661, 0.046761211192027585, 0.10042161747796086, 0.10433448408131951, 0.07633294975067129, 0.06561780506523407, 0.11844660194174761, 0.15000000000000002, 0.0946470131885182, 0.08670520231213874, 0.054594386774317605, 0.08807692307692305, 0.07999999999999996, 0.09769230769230774, 0.1561538461538462, 0.09423076923076923, 0.11915708812260539, 0.061514801999231095, 0.06426931905126243, 0.06199770378874858, 0.09327217125382259, 0.1421455938697318, 0.12658714890342437, 0.06285933307780756, 0.05672671521655803, 0.051262433052792655, 0.05638665132336018, 0.12773302646720364, 0.1267713519724244, 0.13808975834292292, 0.119220481467329, 0.11111111111111116, 0.11928353658536583, 0.10632621951219512, 0.09118773946360148, 0.11857252494244053, 0.09279141104294475, 0.11423076923076925, 0.09730769230769232, 0.08272412466333201, 0.06702412868632712, 0.08450704225352113, 0.08969465648854957, 0.06714994276993513]\n"
          ]
        }
      ]
    },
    {
      "cell_type": "code",
      "metadata": {
        "colab": {
          "base_uri": "https://localhost:8080/"
        },
        "id": "yEF7ZBgvQVHb",
        "outputId": "cf135026-f224-4225-adba-0722450a6406"
      },
      "source": [
        "print(area_down)"
      ],
      "execution_count": 14,
      "outputs": [
        {
          "output_type": "stream",
          "name": "stdout",
          "text": [
            "[0.18368902439024393, 0.1741444866920152, 0.14830346930995042, 0.1428571428571429, 0.1492424242424243, 0.11362778406946017, 0.11178247734138969, 0.1145557655954631, 0.10164310278945354, 0.11816443594646275, 0.14, 0.1609627679578789, 0.11544342507645255, 0.1462585034013606, 0.1724528301886793, 0.12888551933282788, 0.08053435114503815, 0.03523554193795486, 0.09916413373860178, 0.1648351648351648, 0.03883121876201456, 0.06069919323857087, 0.09687261632341726, 0.1641961231470923, 0.06770635222518062, 0.15993964541682382, 0.06912267375617165, 0.058020477815699634, 0.14043035107587765, 0.13036868110984412, 0.17751034223392248, 0.15074798619102414, 0.09527468305801001, 0.11017274472168903, 0.0688196847366398, 0.07574598316755932, 0.10450038138825324, 0.11573720397249809, 0.15522501906941266, 0.17861205915813427, 0.06176134197483796, 0.08152380952380955, 0.10858010630220194, 0.08731966590736517, 0.12021236253318168, 0.1332828474062855, 0.0666412795125666, 0.07771428571428574, 0.12704450361354125, 0.1659719590754074, 0.1018553578190079, 0.056783536585365835, 0.1201520912547529, 0.16906747536012134, 0.12547528517110262, 0.12760318061340403, 0.1744890234670704, 0.07077276205049732, 0.12590614269362843, 0.14171732522796354, 0.09737542791936094, 0.07047619047619047, 0.1546898638426626, 0.1813432835820895, 0.12260967379077614, 0.10602044680045442, 0.07071865443425074, 0.10991957104557637, 0.1091117917304747, 0.124282982791587, 0.18012185833968009, 0.12648070309514714, 0.1287650602409639, 0.0771558245083207, 0.07830404889228415, 0.0625, 0.1102690413035241, 0.16856060606060608, 0.1480373831775701, 0.07266566265060237, 0.0703902065799541, 0.05776587605202754, 0.07000765110941087, 0.17216804201050262, 0.16194790486976218, 0.15753683415187003, 0.13774934136243888, 0.1345206517620311, 0.14708112206216828, 0.1363808084624103, 0.11333585190782014, 0.13431706394248955, 0.11372251705837755, 0.13033622969399317, 0.09252938945771705, 0.07795185326709975, 0.07909820405043944, 0.10064320847521757, 0.09901365705614562, 0.09025407660219942]\n"
          ]
        }
      ]
    },
    {
      "cell_type": "code",
      "metadata": {
        "id": "x3FyKZ7dsFAP"
      },
      "source": [
        "def elipsoide(valores):\n",
        "  dif = np.zeros(4)\n",
        "  k = 0\n",
        "  ref =1E99\n",
        "  for i in range(2):\n",
        "    for j in range(2):\n",
        "      dif[k] = abs(valores[i]-valores[j+2])\n",
        "      if(ref > dif[k]):\n",
        "        ref = dif[k]\n",
        "        ind1=i # 0,1\n",
        "        ind2=j+2 # 2,3\n",
        "      k = k+1\n",
        "  b = (valores[ind1]+valores[ind2])/2\n",
        "  if(ind1 ==0):\n",
        "    a = valores[1]\n",
        "  else:\n",
        "    a = valores[0]\n",
        "  if(ind2 ==2):\n",
        "    c = valores[3]\n",
        "  else:\n",
        "    c = valores[2]\n",
        "  Vol = 4/3*np.pi*a*b*c\n",
        "\n",
        "  return Vol  \n",
        "  \n",
        "\n",
        "  "
      ],
      "execution_count": 15,
      "outputs": []
    },
    {
      "cell_type": "code",
      "metadata": {
        "id": "e1seB9bPoX-6"
      },
      "source": [
        "Volume = []\n",
        "X =[]\n",
        "for i in range(num):\n",
        "  valores = dimensao[i]\n",
        "  X.append(valores)\n",
        "  Vol = elipsoide(valores)\n",
        "  Volume.append(Vol)"
      ],
      "execution_count": 16,
      "outputs": []
    },
    {
      "cell_type": "code",
      "metadata": {
        "id": "GMonI9jWxiEd"
      },
      "source": [
        "#dimensao[0]"
      ],
      "execution_count": 17,
      "outputs": []
    },
    {
      "cell_type": "code",
      "metadata": {
        "id": "qPzPRhwuvMCO"
      },
      "source": [
        "y = df['Volume'].values\n",
        "#print(y)"
      ],
      "execution_count": 18,
      "outputs": []
    },
    {
      "cell_type": "code",
      "metadata": {
        "id": "sEg22wouzvLN"
      },
      "source": [
        "X = np.array(X)\n",
        "#X =np.concatenate((X,np.array(Volume).reshape(num,1)),axis=1)\n",
        "X =np.concatenate((X,np.array(area_up).reshape(num,1)),axis=1)\n",
        "X =np.concatenate((X,np.array(area_down).reshape(num,1)),axis=1)\n",
        "y = np.array(y)\n",
        "y = y.reshape(-1, 1)\n",
        "X_train, X_test, y_train, y_test = train_test_split(X,y,test_size=0.10, shuffle=True, random_state=3)# 1"
      ],
      "execution_count": 19,
      "outputs": []
    },
    {
      "cell_type": "code",
      "metadata": {
        "id": "r-_TzHNM0f5x"
      },
      "source": [
        "scaler_X = preprocessing.MinMaxScaler((-1,1)).fit(X)\n",
        "scaler_Y = preprocessing.MinMaxScaler((-1,1)).fit(y)"
      ],
      "execution_count": 20,
      "outputs": []
    },
    {
      "cell_type": "code",
      "metadata": {
        "id": "UqGfoQ0y1FVz"
      },
      "source": [
        "X_train = scaler_X.transform(X_train)\n",
        "X_test = scaler_X.transform(X_test)\n",
        "y_train = scaler_Y.transform(y_train)\n",
        "y_test = scaler_Y.transform(y_test)"
      ],
      "execution_count": 21,
      "outputs": []
    },
    {
      "cell_type": "code",
      "metadata": {
        "id": "hCVm_LhQ10Ei"
      },
      "source": [
        "# define a rede neural \n",
        "N_Hidden= 20\n",
        "model = MLPRegressor(solver='lbfgs',activation='tanh',alpha=1e-5,hidden_layer_sizes=(N_Hidden), max_iter=1500,random_state=11 )"
      ],
      "execution_count": 22,
      "outputs": []
    },
    {
      "cell_type": "code",
      "metadata": {
        "colab": {
          "base_uri": "https://localhost:8080/"
        },
        "id": "bnDTlm2416Yp",
        "outputId": "211ffb6b-016c-423d-c2f2-1f753764d192"
      },
      "source": [
        "# treina a rede neural\n",
        "model.fit(X_train, y_train)"
      ],
      "execution_count": 23,
      "outputs": [
        {
          "output_type": "stream",
          "name": "stderr",
          "text": [
            "/usr/local/lib/python3.7/dist-packages/sklearn/neural_network/_multilayer_perceptron.py:1342: DataConversionWarning: A column-vector y was passed when a 1d array was expected. Please change the shape of y to (n_samples, ), for example using ravel().\n",
            "  y = column_or_1d(y, warn=True)\n"
          ]
        },
        {
          "output_type": "execute_result",
          "data": {
            "text/plain": [
              "MLPRegressor(activation='tanh', alpha=1e-05, batch_size='auto', beta_1=0.9,\n",
              "             beta_2=0.999, early_stopping=False, epsilon=1e-08,\n",
              "             hidden_layer_sizes=20, learning_rate='constant',\n",
              "             learning_rate_init=0.001, max_fun=15000, max_iter=1500,\n",
              "             momentum=0.9, n_iter_no_change=10, nesterovs_momentum=True,\n",
              "             power_t=0.5, random_state=11, shuffle=True, solver='lbfgs',\n",
              "             tol=0.0001, validation_fraction=0.1, verbose=False,\n",
              "             warm_start=False)"
            ]
          },
          "metadata": {},
          "execution_count": 23
        }
      ]
    },
    {
      "cell_type": "code",
      "metadata": {
        "id": "3rHg9pmw194a"
      },
      "source": [
        "# usa a rede neural treina em calculos para treino e teste\n",
        "y_calc_train=model.predict(X_train)\n",
        "y_calc_test=model.predict(X_test)"
      ],
      "execution_count": 24,
      "outputs": []
    },
    {
      "cell_type": "code",
      "metadata": {
        "id": "zyTUshp42H6A"
      },
      "source": [
        "# transforma dos dados calculados na forma original (nao normatizado)\n",
        "y_obs_train=scaler_Y.inverse_transform(np.array(y_train).reshape(-1,1))\n",
        "y_obs_test=scaler_Y.inverse_transform(np.array(y_test).reshape(-1,1))\n",
        "y_calc_train=scaler_Y.inverse_transform(y_calc_train.reshape(-1,1))\n",
        "y_calc_test=scaler_Y.inverse_transform(y_calc_test.reshape(-1,1))"
      ],
      "execution_count": 25,
      "outputs": []
    },
    {
      "cell_type": "code",
      "metadata": {
        "colab": {
          "base_uri": "https://localhost:8080/"
        },
        "id": "ce5e7nUT2I4Q",
        "outputId": "e7770c1e-3ec3-45f4-da0e-bbc2b3eaa2fc"
      },
      "source": [
        "print(pd.DataFrame({'test calc':y_calc_test.ravel(),'test true':y_obs_test.ravel()}))"
      ],
      "execution_count": 26,
      "outputs": [
        {
          "output_type": "stream",
          "name": "stdout",
          "text": [
            "   test calc  test true\n",
            "0  50.790382       64.0\n",
            "1  28.399300       35.0\n",
            "2  46.531482       50.0\n",
            "3  46.015102       57.0\n",
            "4   8.754034       28.0\n",
            "5  89.134437       91.0\n",
            "6  31.764794       39.0\n",
            "7  45.899971       34.0\n",
            "8  84.251685       81.0\n",
            "9  65.172903       63.0\n"
          ]
        }
      ]
    },
    {
      "cell_type": "code",
      "metadata": {
        "colab": {
          "base_uri": "https://localhost:8080/",
          "height": 282
        },
        "id": "xA81rZeU2MA3",
        "outputId": "64aadd36-6956-4b79-a2f0-ab5871fad7a4"
      },
      "source": [
        "# expressa os dois dados em figura\n",
        "fig = plt.figure()\n",
        "ax1 = fig.add_subplot(111)\n",
        "ax1.scatter(y_obs_test,y_calc_test, s=10, c='b', marker=\"s\", label='teste')\n",
        "ax1.scatter(y_obs_train,y_calc_train, s=10, c='r', marker=\"o\", label='treino')\n",
        "plt.legend(loc='upper left')\n",
        "#plt.xlim([15,30])\n",
        "#plt.ylim([15,30])\n",
        "plt.ylabel('Y Calc')\n",
        "plt.xlabel('Y  Obs')\n",
        "plt.show()"
      ],
      "execution_count": 27,
      "outputs": [
        {
          "output_type": "display_data",
          "data": {
            "image/png": "[encoded data removed]",
            "text/plain": [
              "<Figure size 432x288 with 1 Axes>"
            ]
          },
          "metadata": {
            "needs_background": "light"
          }
        }
      ]
    },
    {
      "cell_type": "code",
      "metadata": {
        "colab": {
          "base_uri": "https://localhost:8080/"
        },
        "id": "W_V6XpU-2rer",
        "outputId": "db7a26a7-17d5-404e-f260-5566a7d9dfb9"
      },
      "source": [
        "mse=mean_squared_error(y_obs_test,y_calc_test)\n",
        "print(\"MSE teste=\",mse)\n",
        "R2=r2_score(y_obs_test,y_calc_test)\n",
        "print(\"R^2 teste=\",R2)"
      ],
      "execution_count": 28,
      "outputs": [
        {
          "output_type": "stream",
          "name": "stdout",
          "text": [
            "MSE teste= 93.39018479127827\n",
            "R^2 teste= 0.7644992314119471\n"
          ]
        }
      ]
    },
    {
      "cell_type": "code",
      "metadata": {
        "colab": {
          "base_uri": "https://localhost:8080/"
        },
        "id": "SPG7mbQk3Fuq",
        "outputId": "cc91a9a8-503b-419b-dd11-710cfcf39802"
      },
      "source": [
        "mse=mean_squared_error(y_obs_train,y_calc_train)\n",
        "print(\"MSE treino=\",mse)\n",
        "R2=r2_score(y_obs_train,y_calc_train)\n",
        "print(\"R^2 treino=\",R2)"
      ],
      "execution_count": 29,
      "outputs": [
        {
          "output_type": "stream",
          "name": "stdout",
          "text": [
            "MSE treino= 0.16369088831348294\n",
            "R^2 treino= 0.9997593674470282\n"
          ]
        }
      ]
    },
    {
      "cell_type": "code",
      "metadata": {
        "colab": {
          "base_uri": "https://localhost:8080/",
          "height": 316
        },
        "id": "y9l0VtZjsPsr",
        "outputId": "87dde203-0e23-4a9a-c0ec-79b5c2125937"
      },
      "source": [
        "area_real = []\n",
        "for i in area_down:\n",
        "  area_real.append(i* 14.5* 14.5) \n",
        "plt.plot(area_real)\n",
        "plt.xlabel('ensaio')\n",
        "plt.ylabel('Area(cm2)')\n",
        "print('area media down',np.array(area_real).mean())\n",
        "print('area desvio down',np.array(area_real).std())"
      ],
      "execution_count": 30,
      "outputs": [
        {
          "output_type": "stream",
          "name": "stdout",
          "text": [
            "area media down 24.47383309515523\n",
            "area desvio down 7.83047343036859\n"
          ]
        },
        {
          "output_type": "display_data",
          "data": {
            "image/png": "[encoded data removed]",
            "text/plain": [
              "<Figure size 432x288 with 1 Axes>"
            ]
          },
          "metadata": {
            "needs_background": "light"
          }
        }
      ]
    },
    {
      "cell_type": "code",
      "metadata": {
        "colab": {
          "base_uri": "https://localhost:8080/",
          "height": 313
        },
        "id": "jO5dTBj0S1wX",
        "outputId": "f79e738d-5979-49ea-b521-ddeaea9df435"
      },
      "source": [
        "area_real = []\n",
        "for i in area_up:\n",
        "  area_real.append(i* 14.5* 14.5) \n",
        "plt.plot(area_real)\n",
        "plt.xlabel('ensaio')\n",
        "plt.ylabel('Area(cm2)')\n",
        "print('area media up',np.array(area_real).mean())\n",
        "print('area desvio up',np.array(area_real).std())"
      ],
      "execution_count": 31,
      "outputs": [
        {
          "output_type": "stream",
          "name": "stdout",
          "text": [
            "area media up 20.671781208421475\n",
            "area desvio up 6.201795053335316\n"
          ]
        },
        {
          "output_type": "display_data",
          "data": {
            "image/png": "[encoded data removed]",
            "text/plain": [
              "<Figure size 432x288 with 1 Axes>"
            ]
          },
          "metadata": {
            "needs_background": "light"
          }
        }
      ]
    },
    {
      "cell_type": "code",
      "metadata": {
        "colab": {
          "base_uri": "https://localhost:8080/"
        },
        "id": "U4UaU1e0TOVi",
        "outputId": "05032c01-8077-4ec8-f87f-01122d408285"
      },
      "source": [
        "np.array(area_real).mean()"
      ],
      "execution_count": 32,
      "outputs": [
        {
          "output_type": "execute_result",
          "data": {
            "text/plain": [
              "20.671781208421475"
            ]
          },
          "metadata": {},
          "execution_count": 32
        }
      ]
    },
    {
      "cell_type": "code",
      "metadata": {
        "colab": {
          "base_uri": "https://localhost:8080/",
          "height": 282
        },
        "id": "mmE80aFcNmSn",
        "outputId": "c81df415-d5dc-4769-b57c-0960ee92a2ea"
      },
      "source": [
        "plt.plot(area_up)"
      ],
      "execution_count": 33,
      "outputs": [
        {
          "output_type": "execute_result",
          "data": {
            "text/plain": [
              "[<matplotlib.lines.Line2D at 0x7fb904f68e10>]"
            ]
          },
          "metadata": {},
          "execution_count": 33
        },
        {
          "output_type": "display_data",
          "data": {
            "image/png": "[encoded data removed]",
            "text/plain": [
              "<Figure size 432x288 with 1 Axes>"
            ]
          },
          "metadata": {
            "needs_background": "light"
          }
        }
      ]
    },
    {
      "cell_type": "code",
      "metadata": {
        "id": "Wb2Lupqu-tEj"
      },
      "source": [
        ""
      ],
      "execution_count": 33,
      "outputs": []
    },
    {
      "cell_type": "code",
      "metadata": {
        "id": "oijbPrt9ONMj"
      },
      "source": [
        ""
      ],
      "execution_count": 33,
      "outputs": []
    }
  ]
}