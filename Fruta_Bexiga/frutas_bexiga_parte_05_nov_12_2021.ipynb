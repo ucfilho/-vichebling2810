{
  "nbformat": 4,
  "nbformat_minor": 0,
  "metadata": {
    "colab": {
      "name": "frutas_bexiga_parte_05_nov_12_2021.ipynb",
      "provenance": [],
      "collapsed_sections": [],
      "authorship_tag": "ABX9TyM9o0RpZ/GZLRZRE9CNxs1+",
      "include_colab_link": true
    },
    "kernelspec": {
      "name": "python3",
      "display_name": "Python 3"
    },
    "language_info": {
      "name": "python"
    }
  },
  "cells": [
    {
      "cell_type": "markdown",
      "metadata": {
        "id": "view-in-github",
        "colab_type": "text"
      },
      "source": [
        "<a href=\"https://colab.research.google.com/github/ucfilho/vichebling2810/blob/main/Fruta_Bexiga/frutas_bexiga_parte_05_nov_12_2021.ipynb\" target=\"_parent\"><img src=\"https://colab.research.google.com/assets/colab-badge.svg\" alt=\"Open In Colab\"/></a>"
      ]
    },
    {
      "cell_type": "code",
      "metadata": {
        "id": "7ze3i4b9-WH1"
      },
      "source": [
        "# parte 1- le os arquivos e separa eles em a e b (a frutas deitadas e b sao as frusta em pe)\n",
        "# parte 2- usa o filtro\n",
        "# parte 3- calcula o volume : para um objeto\n",
        "# parte 4- para todos objetos\n",
        "# parte 5- explora tecnicas para melhorar o volume"
      ],
      "execution_count": 1,
      "outputs": []
    },
    {
      "cell_type": "code",
      "metadata": {
        "id": "hW2vxhnRvPVz"
      },
      "source": [
        "from matplotlib import pyplot as plt\n",
        "from PIL import Image\n",
        "import numpy as np\n",
        "import pandas as pd\n",
        "import os \n",
        "import cv2\n",
        "import re, random\n",
        "from skimage import feature\n",
        "from sklearn.neural_network import MLPClassifier\n",
        "from sklearn import preprocessing\n",
        "from sklearn.model_selection import train_test_split\n",
        "from sklearn.metrics import classification_report\n",
        "import random\n",
        "from sklearn.neural_network import MLPRegressor\n",
        "from sklearn.model_selection import train_test_split\n",
        "from sklearn import preprocessing\n",
        "from sklearn.metrics import mean_squared_error\n",
        "from sklearn.metrics import r2_score "
      ],
      "execution_count": 2,
      "outputs": []
    },
    {
      "cell_type": "code",
      "metadata": {
        "colab": {
          "base_uri": "https://localhost:8080/"
        },
        "id": "TwhExglZvRuQ",
        "outputId": "6b5d6d59-f832-44fe-acd3-9dc3dea1909a"
      },
      "source": [
        "!gdown --id 1PbOf7-WA_t4FKOGkOgIi3dioOxaOr6Q_"
      ],
      "execution_count": 3,
      "outputs": [
        {
          "output_type": "stream",
          "name": "stdout",
          "text": [
            "Downloading...\n",
            "From: https://drive.google.com/uc?id=1PbOf7-WA_t4FKOGkOgIi3dioOxaOr6Q_\n",
            "To: /content/Bexigas.zip\n",
            "100% 229M/229M [00:01<00:00, 158MB/s]\n"
          ]
        }
      ]
    },
    {
      "cell_type": "code",
      "metadata": {
        "id": "jGJnpGo4viwU"
      },
      "source": [
        "import zipfile\n",
        "file_name = zipfile.ZipFile('Bexigas.zip', 'r')\n",
        "file_name.extractall()"
      ],
      "execution_count": 4,
      "outputs": []
    },
    {
      "cell_type": "code",
      "metadata": {
        "id": "yUVqk2GGvnCB"
      },
      "source": [
        "FILE='Bexigas.zip'\n",
        "img_name=[]\n",
        "x_original = [] \n",
        "\n",
        "ref ='jpg'\n",
        "data_file ='xlsx'\n",
        "\n",
        "with zipfile.ZipFile(FILE, \"r\") as f:\n",
        "    for name in f.namelist():\n",
        "      if(name[-3:]==ref):\n",
        "        img_name.append(name)\n",
        "        #x_original.append(cv2.resize(cv2.imread(name),(60,80)))\n",
        "        x_original.append(cv2.resize(cv2.imread(name,0),(60,80)))\n",
        "      else:\n",
        "        if(name[-4:] == data_file):\n",
        "          df =pd.read_excel(name)\n"
      ],
      "execution_count": 5,
      "outputs": []
    },
    {
      "cell_type": "code",
      "metadata": {
        "colab": {
          "base_uri": "https://localhost:8080/",
          "height": 281
        },
        "id": "bH47nLqlvtWX",
        "outputId": "63fe8c2a-9232-4260-9aa9-d681c3b2486f"
      },
      "source": [
        "Ind = 5\n",
        "img= x_original[Ind]\n",
        "plt.axis(\"off\")\n",
        "RGB_img = cv2.cvtColor(img, cv2.COLOR_BGR2RGB)\n",
        "plt.imshow(RGB_img)\n",
        "plt.title(img_name[Ind])"
      ],
      "execution_count": 6,
      "outputs": [
        {
          "output_type": "execute_result",
          "data": {
            "text/plain": [
              "Text(0.5, 1.0, '3b.jpg')"
            ]
          },
          "metadata": {},
          "execution_count": 6
        },
        {
          "output_type": "display_data",
          "data": {
            "image/png": "[encoded data removed]",
            "text/plain": [
              "<Figure size 432x288 with 1 Axes>"
            ]
          },
          "metadata": {
            "needs_background": "light"
          }
        }
      ]
    },
    {
      "cell_type": "code",
      "metadata": {
        "colab": {
          "base_uri": "https://localhost:8080/",
          "height": 35
        },
        "id": "Re3skx-y6iNE",
        "outputId": "a0e701f8-9bd5-437b-f896-7afadda803b8"
      },
      "source": [
        "'''\n",
        "for name in img_name:\n",
        "  if(name[-5]=='a'):\n",
        "    print(name)\n",
        "'''"
      ],
      "execution_count": 7,
      "outputs": [
        {
          "output_type": "execute_result",
          "data": {
            "application/vnd.google.colaboratory.intrinsic+json": {
              "type": "string"
            },
            "text/plain": [
              "\"\\nfor name in img_name:\\n  if(name[-5]=='a'):\\n    print(name)\\n\""
            ]
          },
          "metadata": {},
          "execution_count": 7
        }
      ]
    },
    {
      "cell_type": "code",
      "metadata": {
        "id": "0MklRIT77qD2"
      },
      "source": [
        "name_down=[]  # down representa as frutas deitadas\n",
        "original_down = [] \n",
        "name_up=[] # down representa as frutas em pe\n",
        "original_up= [] "
      ],
      "execution_count": 8,
      "outputs": []
    },
    {
      "cell_type": "code",
      "metadata": {
        "id": "33_sR26h7ldr"
      },
      "source": [
        "k = 0\n",
        "for name in img_name:\n",
        "  if(name[-5]=='a'):\n",
        "    name_up.append(name)\n",
        "    original_up.append(x_original[k])\n",
        "  else:\n",
        "    name_down.append(name)\n",
        "    original_down.append(x_original[k])\n",
        "  k = k +1\n"
      ],
      "execution_count": 9,
      "outputs": []
    },
    {
      "cell_type": "code",
      "metadata": {
        "id": "50lDyXUQ83gJ"
      },
      "source": [
        "# print(name_down) \n",
        "# print(name_up)"
      ],
      "execution_count": 10,
      "outputs": []
    },
    {
      "cell_type": "code",
      "metadata": {
        "id": "D-nQQ2PVGXM_"
      },
      "source": [
        "def get_dimension(img):\n",
        "  im = img\n",
        "  # Compute the Canny filter for two values of sigma\n",
        "  edges1 = feature.canny(im)\n",
        "  edges2 = feature.canny(im, sigma=3)\n",
        "  nrows,ncols =edges2.shape\n",
        "  Foto = np.ones((nrows,ncols))*255\n",
        "  for i in range(nrows):\n",
        "    for j in range(ncols):\n",
        "      if edges2[i,j] == True:\n",
        "        Foto[i,j]=0\n",
        "  Foto = Foto.astype(int)\n",
        "# calculo do raio horizontal\n",
        "  Quadrado = []\n",
        "  Raio = []\n",
        "  for i in range(nrows):\n",
        "    values = np.zeros(4)\n",
        "    k = -1\n",
        "    for j in range(1,ncols):\n",
        "      if(Foto[i,j-1]==255 and Foto[i,j]==0):\n",
        "        if(k<3):\n",
        "          k = k+1\n",
        "          values[k]=j\n",
        "    L = values[3] - values[0]\n",
        "    d = values[2] - values[1]\n",
        "    Quadrado.append(L)\n",
        "    Raio.append(d)\n",
        "  L = np.array(Quadrado).max()\n",
        "  Raio = np.array(Raio).max()\n",
        "  medida = Raio/L*14.5\n",
        "  # medida = 11.711538461538462\n",
        "  return medida,Foto\n"
      ],
      "execution_count": 11,
      "outputs": []
    },
    {
      "cell_type": "code",
      "metadata": {
        "colab": {
          "base_uri": "https://localhost:8080/"
        },
        "id": "wGeJ7NMwC3QV",
        "outputId": "9d208438-b252-473f-a88b-c3156634c6ff"
      },
      "source": [
        "Ind = 5\n",
        "img= original_down[Ind]\n",
        "medida,Foto = get_dimension(img)\n",
        "print('raio horizontal=',medida)\n",
        "img = img.transpose()\n",
        "medida,Foto = get_dimension(img)\n",
        "print('raio vertical=',medida)"
      ],
      "execution_count": 12,
      "outputs": [
        {
          "output_type": "stream",
          "name": "stdout",
          "text": [
            "raio horizontal= 11.711538461538462\n",
            "raio vertical= 8.529411764705882\n"
          ]
        }
      ]
    },
    {
      "cell_type": "code",
      "metadata": {
        "colab": {
          "base_uri": "https://localhost:8080/"
        },
        "id": "cIpI9A8NLTOn",
        "outputId": "bb5f4371-513b-4af3-b103-a3f9077a9962"
      },
      "source": [
        "Ind = 5\n",
        "img= original_up[Ind]\n",
        "medida,Foto = get_dimension(img)\n",
        "print('raio horizontal=',medida)\n",
        "img = img.transpose()\n",
        "medida,Foto = get_dimension(img)\n",
        "print('raio vertical=',medida)"
      ],
      "execution_count": 13,
      "outputs": [
        {
          "output_type": "stream",
          "name": "stdout",
          "text": [
            "raio horizontal= 10.596153846153845\n",
            "raio vertical= 7.960784313725491\n"
          ]
        }
      ]
    },
    {
      "cell_type": "code",
      "metadata": {
        "id": "3DRJb6lkDCtT"
      },
      "source": [
        "# raio horizontal= 11.711538461538462"
      ],
      "execution_count": 14,
      "outputs": []
    },
    {
      "cell_type": "code",
      "metadata": {
        "id": "7qgS1SiEhwQ2"
      },
      "source": [
        "(num,l,w)=np.array(original_down).shape"
      ],
      "execution_count": 15,
      "outputs": []
    },
    {
      "cell_type": "code",
      "metadata": {
        "colab": {
          "base_uri": "https://localhost:8080/"
        },
        "id": "1kNAz7DNiLvK",
        "outputId": "e66200ab-8c2e-4b20-faa9-3b23539cfd90"
      },
      "source": [
        "dimensao =[]\n",
        "for i in range(num):\n",
        "  lista =[]\n",
        "  Ind = i\n",
        "  img= original_up[Ind]\n",
        "  medida1,foto = get_dimension(img)\n",
        "  lista.append(medida1)\n",
        "  img = img.transpose()\n",
        "  medida2,foto = get_dimension(img)\n",
        "  lista.append(medida2)\n",
        "  img2= original_down[Ind]\n",
        "  print('=====',i,'====')\n",
        "  medida3,foto = get_dimension(img2)\n",
        "  lista.append(medida3)\n",
        "  img2 = img2.transpose()\n",
        "  medida4,foto = get_dimension(img2)\n",
        "  lista.append(medida4)\n",
        "  dimensao.append(lista)\n"
      ],
      "execution_count": 16,
      "outputs": [
        {
          "output_type": "stream",
          "name": "stdout",
          "text": [
            "===== 0 ====\n",
            "===== 1 ====\n",
            "===== 2 ====\n",
            "===== 3 ====\n",
            "===== 4 ====\n",
            "===== 5 ====\n",
            "===== 6 ====\n",
            "===== 7 ====\n",
            "===== 8 ====\n",
            "===== 9 ====\n",
            "===== 10 ====\n",
            "===== 11 ====\n",
            "===== 12 ====\n",
            "===== 13 ====\n",
            "===== 14 ====\n",
            "===== 15 ====\n",
            "===== 16 ====\n",
            "===== 17 ====\n",
            "===== 18 ====\n",
            "===== 19 ====\n",
            "===== 20 ====\n",
            "===== 21 ====\n",
            "===== 22 ====\n",
            "===== 23 ====\n",
            "===== 24 ====\n",
            "===== 25 ====\n",
            "===== 26 ====\n",
            "===== 27 ====\n",
            "===== 28 ====\n",
            "===== 29 ====\n",
            "===== 30 ====\n",
            "===== 31 ====\n",
            "===== 32 ====\n",
            "===== 33 ====\n",
            "===== 34 ====\n",
            "===== 35 ====\n",
            "===== 36 ====\n",
            "===== 37 ====\n",
            "===== 38 ====\n",
            "===== 39 ====\n",
            "===== 40 ====\n",
            "===== 41 ====\n",
            "===== 42 ====\n",
            "===== 43 ====\n",
            "===== 44 ====\n",
            "===== 45 ====\n",
            "===== 46 ====\n",
            "===== 47 ====\n",
            "===== 48 ====\n",
            "===== 49 ====\n",
            "===== 50 ====\n",
            "===== 51 ====\n",
            "===== 52 ====\n",
            "===== 53 ====\n",
            "===== 54 ====\n",
            "===== 55 ====\n",
            "===== 56 ====\n",
            "===== 57 ====\n",
            "===== 58 ====\n",
            "===== 59 ====\n",
            "===== 60 ====\n",
            "===== 61 ====\n",
            "===== 62 ====\n",
            "===== 63 ====\n",
            "===== 64 ====\n",
            "===== 65 ====\n",
            "===== 66 ====\n",
            "===== 67 ====\n",
            "===== 68 ====\n",
            "===== 69 ====\n",
            "===== 70 ====\n",
            "===== 71 ====\n",
            "===== 72 ====\n",
            "===== 73 ====\n",
            "===== 74 ====\n",
            "===== 75 ====\n",
            "===== 76 ====\n",
            "===== 77 ====\n",
            "===== 78 ====\n",
            "===== 79 ====\n",
            "===== 80 ====\n",
            "===== 81 ====\n",
            "===== 82 ====\n",
            "===== 83 ====\n",
            "===== 84 ====\n",
            "===== 85 ====\n",
            "===== 86 ====\n",
            "===== 87 ====\n",
            "===== 88 ====\n",
            "===== 89 ====\n",
            "===== 90 ====\n",
            "===== 91 ====\n",
            "===== 92 ====\n",
            "===== 93 ====\n",
            "===== 94 ====\n",
            "===== 95 ====\n",
            "===== 96 ====\n",
            "===== 97 ====\n",
            "===== 98 ====\n",
            "===== 99 ====\n"
          ]
        }
      ]
    },
    {
      "cell_type": "code",
      "metadata": {
        "id": "x3FyKZ7dsFAP"
      },
      "source": [
        "def elipsoide(valores):\n",
        "  dif = np.zeros(4)\n",
        "  k = 0\n",
        "  ref =1E99\n",
        "  for i in range(2):\n",
        "    for j in range(2):\n",
        "      dif[k] = abs(valores[i]-valores[j+2])\n",
        "      if(ref > dif[k]):\n",
        "        ref = dif[k]\n",
        "        ind1=i # 0,1\n",
        "        ind2=j+2 # 2,3\n",
        "      k = k+1\n",
        "  b = (valores[ind1]+valores[ind2])/2\n",
        "  if(ind1 ==0):\n",
        "    a = valores[1]\n",
        "  else:\n",
        "    a = valores[0]\n",
        "  if(ind2 ==2):\n",
        "    c = valores[3]\n",
        "  else:\n",
        "    c = valores[2]\n",
        "  Vol = 4/3*np.pi*a*b*c\n",
        "\n",
        "  return Vol  \n",
        "  \n",
        "\n",
        "  "
      ],
      "execution_count": 17,
      "outputs": []
    },
    {
      "cell_type": "code",
      "metadata": {
        "id": "e1seB9bPoX-6"
      },
      "source": [
        "Volume = []\n",
        "X =[]\n",
        "for i in range(num):\n",
        "  valores = dimensao[i]\n",
        "  X.append(valores)\n",
        "  Vol = elipsoide(valores)\n",
        "  Volume.append(Vol)"
      ],
      "execution_count": 18,
      "outputs": []
    },
    {
      "cell_type": "code",
      "metadata": {
        "colab": {
          "base_uri": "https://localhost:8080/"
        },
        "id": "6SXt-Bfkw8PG",
        "outputId": "9ff0b79a-4c40-435b-966c-bb1c428de68f"
      },
      "source": [
        "print(Volume)"
      ],
      "execution_count": 19,
      "outputs": [
        {
          "output_type": "stream",
          "name": "stdout",
          "text": [
            "[2892.8785401893037, 2470.3247172529736, 2304.5340490287444, 2657.522065510602, 2180.5687294813756, 4285.945433808221, 3104.988332851776, 2163.1967788422257, 2067.9528206973405, 2363.6115667911513, 2368.16967291314, 2007.9104499606528, 2555.4546834661037, 2394.0470749530855, 2258.44618410571, 2240.203783914279, 2078.3481018335983, 2083.6036634295074, 2021.5564433099, 2262.9509511879182, 2110.58030468356, 2345.089227426178, 2148.3581014933193, 2300.4445579355033, 2740.003497403912, 2155.7843398513323, 2042.2337055155358, 2265.0949370688822, 2537.686400477618, 2424.190890982053, 2397.123718778085, 2986.6050148940503, 2766.228686217781, 2803.224934723061, 2301.2603184170403, 2227.026114597136, 2976.8180853938215, 1789.5745563726985, 2124.8634442912626, 2247.704466226491, 3172.401872645493, 2898.782211129819, 2935.718032932763, 2189.591772499919, 2733.2130467288926, 3134.729600407828, 2971.5888341070327, 2600.106013223456, 2604.134057201181, 3441.8464266966316, 3634.437279381595, 3952.3595330487633, 2168.4953000468267, 2315.135600213286, 2447.500418779957, 2504.10927200344, 2252.263704494699, 2555.8170984236253, 2202.5533001510134, 2631.2996365701547, 2650.1185234800882, 2895.9606036950136, 2887.0515143975827, 2174.081211228764, 2277.876056151943, 1950.1774011753764, 2723.507007666155, 2935.185522618426, 2981.3637973771215, 2791.729509937397, 3102.1488588679626, 2942.692687001773, 2629.5725368327126, 2326.900123552028, 2082.277503662899, 2295.9125552602954, 2109.7326561289015, 2645.41130515658, 2191.4738609185943, 2633.5173401228394, 2796.31363064337, 2730.4823829336683, 2002.1821318733864, 3146.9529345462483, 2603.2869213165072, 2257.1284004136314, 2317.2001414111064, 2171.4382692840395, 2450.3811634231106, 2361.424577893824, 2069.9922219011837, 2120.781155727672, 2535.045419495589, 2239.5428668574777, 2138.9445726994036, 2737.8647952279903, 2562.233077851956, 3082.5122717541335, 2964.3896607035676, 3353.9453488658755]\n"
          ]
        }
      ]
    },
    {
      "cell_type": "code",
      "metadata": {
        "colab": {
          "base_uri": "https://localhost:8080/"
        },
        "id": "HbDbw3JexYDc",
        "outputId": "f31d2504-a754-4a5c-a386-3f64bc1f4108"
      },
      "source": [
        "Vol = elipsoide(dimensao[0])\n",
        "print(Vol)"
      ],
      "execution_count": 20,
      "outputs": [
        {
          "output_type": "stream",
          "name": "stdout",
          "text": [
            "2892.8785401893037\n"
          ]
        }
      ]
    },
    {
      "cell_type": "code",
      "metadata": {
        "colab": {
          "base_uri": "https://localhost:8080/"
        },
        "id": "GMonI9jWxiEd",
        "outputId": "33e08c04-4138-4208-e8c2-131e64ca1ef3"
      },
      "source": [
        "dimensao[0]"
      ],
      "execution_count": 21,
      "outputs": [
        {
          "output_type": "execute_result",
          "data": {
            "text/plain": [
              "[10.038461538461538, 8.7, 8.923076923076923, 7.8076923076923075]"
            ]
          },
          "metadata": {},
          "execution_count": 21
        }
      ]
    },
    {
      "cell_type": "code",
      "metadata": {
        "colab": {
          "base_uri": "https://localhost:8080/",
          "height": 281
        },
        "id": "z9bG6Q9Zomsd",
        "outputId": "d57dc7ac-7b93-481b-c520-4b7078d2e3fb"
      },
      "source": [
        "Ind = 0\n",
        "img= original_down[Ind]\n",
        "plt.axis(\"off\")\n",
        "RGB_img = cv2.cvtColor(img, cv2.COLOR_BGR2RGB)\n",
        "plt.imshow(RGB_img)\n",
        "plt.title(img_name[Ind])"
      ],
      "execution_count": 22,
      "outputs": [
        {
          "output_type": "execute_result",
          "data": {
            "text/plain": [
              "Text(0.5, 1.0, '1a.jpg')"
            ]
          },
          "metadata": {},
          "execution_count": 22
        },
        {
          "output_type": "display_data",
          "data": {
            "image/png": "[encoded data removed]",
            "text/plain": [
              "<Figure size 432x288 with 1 Axes>"
            ]
          },
          "metadata": {
            "needs_background": "light"
          }
        }
      ]
    },
    {
      "cell_type": "code",
      "metadata": {
        "colab": {
          "base_uri": "https://localhost:8080/"
        },
        "id": "qPzPRhwuvMCO",
        "outputId": "19dfbab1-d604-4602-ac2a-3e987bcfc308"
      },
      "source": [
        "y = df['Volume'].values\n",
        "print(y)"
      ],
      "execution_count": 24,
      "outputs": [
        {
          "output_type": "stream",
          "name": "stdout",
          "text": [
            "[96 90 80 75 60 55 50 46 36 48 72 82 54 74 92 63 20  9 42 87 12 23 41 78\n",
            " 14 81 25 18 69 62 95 73 37 49 10 26 45 52 85 94 16 32 34 36 55 70 20 27\n",
            " 60 76 44 11 56 88 48 52 93 14 58 71 42 17 84 94 57 47 21 35 19 61 96 59\n",
            " 65 29 24 23 43 89 79 27 13 15 19 91 86 83 71 66 77 68 53 67 51 64 40 30\n",
            " 28 33 39 31]\n"
          ]
        }
      ]
    },
    {
      "cell_type": "code",
      "metadata": {
        "id": "RHT1C90M1ag7"
      },
      "source": [
        ""
      ],
      "execution_count": 24,
      "outputs": []
    },
    {
      "cell_type": "code",
      "metadata": {
        "id": "sEg22wouzvLN"
      },
      "source": [
        "X = np.array(X)\n",
        "y = np.array(y)\n",
        "y = y.reshape(-1, 1)\n",
        "X_train, X_test, y_train, y_test = train_test_split(X,y,test_size=0.10, shuffle=True, random_state=3)# 1"
      ],
      "execution_count": 25,
      "outputs": []
    },
    {
      "cell_type": "code",
      "metadata": {
        "id": "r-_TzHNM0f5x"
      },
      "source": [
        "scaler_X = preprocessing.MinMaxScaler((-1,1)).fit(X)\n",
        "scaler_Y = preprocessing.MinMaxScaler((-1,1)).fit(y)"
      ],
      "execution_count": 26,
      "outputs": []
    },
    {
      "cell_type": "code",
      "metadata": {
        "id": "UqGfoQ0y1FVz"
      },
      "source": [
        "X_train = scaler_X.transform(X_train)\n",
        "X_test = scaler_X.transform(X_test)\n",
        "y_train = scaler_Y.transform(y_train)\n",
        "y_test = scaler_Y.transform(y_test)"
      ],
      "execution_count": 27,
      "outputs": []
    },
    {
      "cell_type": "code",
      "metadata": {
        "id": "hCVm_LhQ10Ei"
      },
      "source": [
        "# define a rede neural \n",
        "N_Hidden= 20\n",
        "model = MLPRegressor(solver='lbfgs',activation='tanh',alpha=1e-5,hidden_layer_sizes=(N_Hidden), max_iter=1500,random_state=11 )"
      ],
      "execution_count": 28,
      "outputs": []
    },
    {
      "cell_type": "code",
      "metadata": {
        "colab": {
          "base_uri": "https://localhost:8080/"
        },
        "id": "bnDTlm2416Yp",
        "outputId": "adba7e6a-efa5-4ea0-e67b-c5e054b9984b"
      },
      "source": [
        "# treina a rede neural\n",
        "model.fit(X_train, y_train)"
      ],
      "execution_count": 29,
      "outputs": [
        {
          "output_type": "stream",
          "name": "stderr",
          "text": [
            "/usr/local/lib/python3.7/dist-packages/sklearn/neural_network/_multilayer_perceptron.py:1342: DataConversionWarning: A column-vector y was passed when a 1d array was expected. Please change the shape of y to (n_samples, ), for example using ravel().\n",
            "  y = column_or_1d(y, warn=True)\n",
            "/usr/local/lib/python3.7/dist-packages/sklearn/neural_network/_multilayer_perceptron.py:470: ConvergenceWarning: lbfgs failed to converge (status=1):\n",
            "STOP: TOTAL NO. of ITERATIONS REACHED LIMIT.\n",
            "\n",
            "Increase the number of iterations (max_iter) or scale the data as shown in:\n",
            "    https://scikit-learn.org/stable/modules/preprocessing.html\n",
            "  self.n_iter_ = _check_optimize_result(\"lbfgs\", opt_res, self.max_iter)\n"
          ]
        },
        {
          "output_type": "execute_result",
          "data": {
            "text/plain": [
              "MLPRegressor(activation='tanh', alpha=1e-05, batch_size='auto', beta_1=0.9,\n",
              "             beta_2=0.999, early_stopping=False, epsilon=1e-08,\n",
              "             hidden_layer_sizes=20, learning_rate='constant',\n",
              "             learning_rate_init=0.001, max_fun=15000, max_iter=1500,\n",
              "             momentum=0.9, n_iter_no_change=10, nesterovs_momentum=True,\n",
              "             power_t=0.5, random_state=11, shuffle=True, solver='lbfgs',\n",
              "             tol=0.0001, validation_fraction=0.1, verbose=False,\n",
              "             warm_start=False)"
            ]
          },
          "metadata": {},
          "execution_count": 29
        }
      ]
    },
    {
      "cell_type": "code",
      "metadata": {
        "id": "3rHg9pmw194a"
      },
      "source": [
        "# usa a rede neural treina em calculos para treino e teste\n",
        "y_calc_train=model.predict(X_train)\n",
        "y_calc_test=model.predict(X_test)"
      ],
      "execution_count": 30,
      "outputs": []
    },
    {
      "cell_type": "code",
      "metadata": {
        "id": "zyTUshp42H6A"
      },
      "source": [
        "# transforma dos dados calculados na forma original (nao normatizado)\n",
        "y_obs_train=scaler_Y.inverse_transform(np.array(y_train).reshape(-1,1))\n",
        "y_obs_test=scaler_Y.inverse_transform(np.array(y_test).reshape(-1,1))\n",
        "y_calc_train=scaler_Y.inverse_transform(y_calc_train.reshape(-1,1))\n",
        "y_calc_test=scaler_Y.inverse_transform(y_calc_test.reshape(-1,1))"
      ],
      "execution_count": 31,
      "outputs": []
    },
    {
      "cell_type": "code",
      "metadata": {
        "colab": {
          "base_uri": "https://localhost:8080/"
        },
        "id": "ce5e7nUT2I4Q",
        "outputId": "129073da-0f8e-4898-cdd9-580fc7bdc618"
      },
      "source": [
        "print(pd.DataFrame({'test calc':y_calc_test.ravel(),'test true':y_obs_test.ravel()}))"
      ],
      "execution_count": 32,
      "outputs": [
        {
          "output_type": "stream",
          "name": "stdout",
          "text": [
            "    test calc  test true\n",
            "0   58.556545       64.0\n",
            "1  140.327545       35.0\n",
            "2  222.073029       50.0\n",
            "3   74.448828       57.0\n",
            "4  -97.060319       28.0\n",
            "5   56.889875       91.0\n",
            "6   47.505525       39.0\n",
            "7   55.893200       34.0\n",
            "8   95.047509       81.0\n",
            "9    1.882353       63.0\n"
          ]
        }
      ]
    },
    {
      "cell_type": "code",
      "metadata": {
        "colab": {
          "base_uri": "https://localhost:8080/",
          "height": 279
        },
        "id": "xA81rZeU2MA3",
        "outputId": "cac6f0a9-05c6-49ab-bdaf-da256c8b4a1f"
      },
      "source": [
        "# expressa os dois dados em figura\n",
        "fig = plt.figure()\n",
        "ax1 = fig.add_subplot(111)\n",
        "ax1.scatter(y_obs_test,y_calc_test, s=10, c='b', marker=\"s\", label='teste')\n",
        "ax1.scatter(y_obs_train,y_calc_train, s=10, c='r', marker=\"o\", label='treino')\n",
        "plt.legend(loc='upper left')\n",
        "#plt.xlim([15,30])\n",
        "#plt.ylim([15,30])\n",
        "plt.ylabel('Y Calc')\n",
        "plt.xlabel('Y  Obs')\n",
        "plt.show()"
      ],
      "execution_count": 33,
      "outputs": [
        {
          "output_type": "display_data",
          "data": {
            "image/png": "[encoded data removed]",
            "text/plain": [
              "<Figure size 432x288 with 1 Axes>"
            ]
          },
          "metadata": {
            "needs_background": "light"
          }
        }
      ]
    },
    {
      "cell_type": "code",
      "metadata": {
        "colab": {
          "base_uri": "https://localhost:8080/"
        },
        "id": "W_V6XpU-2rer",
        "outputId": "8b8bde92-ec69-4492-f9d0-f90330f36181"
      },
      "source": [
        "mse=mean_squared_error(y_obs_test,y_calc_test)\n",
        "print(\"MSE teste=\",mse)\n",
        "R2=r2_score(y_obs_test,y_calc_test)\n",
        "print(\"R^2 teste=\",R2)"
      ],
      "execution_count": 34,
      "outputs": [
        {
          "output_type": "stream",
          "name": "stdout",
          "text": [
            "MSE teste= 6232.505138660291\n",
            "R^2 teste= -14.716424093857905\n"
          ]
        }
      ]
    },
    {
      "cell_type": "code",
      "metadata": {
        "colab": {
          "base_uri": "https://localhost:8080/"
        },
        "id": "SPG7mbQk3Fuq",
        "outputId": "18ed4672-e648-46ba-dc5c-4b327c1826a6"
      },
      "source": [
        "mse=mean_squared_error(y_obs_train,y_calc_train)\n",
        "print(\"MSE treino=\",mse)\n",
        "R2=r2_score(y_obs_train,y_calc_train)\n",
        "print(\"R^2 treino=\",R2)"
      ],
      "execution_count": 35,
      "outputs": [
        {
          "output_type": "stream",
          "name": "stdout",
          "text": [
            "MSE treino= 14.425353082661552\n",
            "R^2 treino= 0.9787941187468417\n"
          ]
        }
      ]
    }
  ]
}