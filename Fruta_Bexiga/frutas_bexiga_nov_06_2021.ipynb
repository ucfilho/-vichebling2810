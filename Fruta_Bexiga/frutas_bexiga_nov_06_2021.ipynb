{
  "nbformat": 4,
  "nbformat_minor": 0,
  "metadata": {
    "colab": {
      "name": "frutas_bexiga_nov_06_2021.ipynb",
      "provenance": [],
      "collapsed_sections": [],
      "authorship_tag": "ABX9TyMVvLyRZZlfPKcHqH7rgwnE",
      "include_colab_link": true
    },
    "kernelspec": {
      "name": "python3",
      "display_name": "Python 3"
    },
    "language_info": {
      "name": "python"
    }
  },
  "cells": [
    {
      "cell_type": "markdown",
      "metadata": {
        "id": "view-in-github",
        "colab_type": "text"
      },
      "source": [
        "<a href=\"https://colab.research.google.com/github/ucfilho/vichebling2810/blob/main/Fruta_Bexiga/frutas_bexiga_nov_06_2021.ipynb\" target=\"_parent\"><img src=\"https://colab.research.google.com/assets/colab-badge.svg\" alt=\"Open In Colab\"/></a>"
      ]
    },
    {
      "cell_type": "code",
      "metadata": {
        "id": "3WIENQ9YuNEX"
      },
      "source": [
        "# link https://drive.google.com/file/d/1PbOf7-WA_t4FKOGkOgIi3dioOxaOr6Q_/view?usp=sharing"
      ],
      "execution_count": null,
      "outputs": []
    },
    {
      "cell_type": "code",
      "metadata": {
        "id": "hW2vxhnRvPVz"
      },
      "source": [
        "from matplotlib import pyplot as plt\n",
        "from PIL import Image\n",
        "import numpy as np\n",
        "import pandas as pd\n",
        "import os \n",
        "import cv2\n",
        "import re, random\n",
        "\n",
        "from sklearn.neural_network import MLPClassifier\n",
        "from sklearn import preprocessing\n",
        "from sklearn.model_selection import train_test_split\n",
        "from sklearn.metrics import classification_report\n",
        "import random"
      ],
      "execution_count": null,
      "outputs": []
    },
    {
      "cell_type": "code",
      "metadata": {
        "id": "TwhExglZvRuQ"
      },
      "source": [
        "!gdown --id 1PbOf7-WA_t4FKOGkOgIi3dioOxaOr6Q_"
      ],
      "execution_count": null,
      "outputs": []
    },
    {
      "cell_type": "code",
      "metadata": {
        "id": "jGJnpGo4viwU"
      },
      "source": [
        "import zipfile\n",
        "file_name = zipfile.ZipFile('teste fundo preto.zip', 'r')\n",
        "file_name.extractall()"
      ],
      "execution_count": null,
      "outputs": []
    },
    {
      "cell_type": "code",
      "metadata": {
        "id": "yUVqk2GGvnCB"
      },
      "source": [
        "#Colocar todas as imagens do arquivo APeixe em img_name e x_original\n",
        "FILE='Bexigas.zip'\n",
        "img_name=[] #armazena o nome da foto em uma lista\n",
        "x_original = [] #armazerna a foto no formato original em uma lista, optei por trabalhar com colorido porque o salmonete eh parecido com\n",
        "#a espadilha, a diferenca desses peixes eh mais facilmente observada pela cor\n",
        "with zipfile.ZipFile(FILE, \"r\") as f:\n",
        "    for name in f.namelist():\n",
        "        img_name.append(name)\n",
        "        x_original.append(cv2.resize(cv2.imread(name),(60,80)))"
      ],
      "execution_count": null,
      "outputs": []
    },
    {
      "cell_type": "code",
      "metadata": {
        "id": "bH47nLqlvtWX"
      },
      "source": [
        "Ind = 5\n",
        "img= x_original[Ind]\n",
        "plt.axis(\"off\")\n",
        "RGB_img = cv2.cvtColor(img, cv2.COLOR_BGR2RGB)\n",
        "plt.imshow(RGB_img)\n",
        "plt.title(img_name[Ind])"
      ],
      "execution_count": null,
      "outputs": []
    }
  ]
}