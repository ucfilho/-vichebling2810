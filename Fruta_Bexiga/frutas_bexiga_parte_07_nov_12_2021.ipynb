{
  "nbformat": 4,
  "nbformat_minor": 0,
  "metadata": {
    "colab": {
      "name": "frutas_bexiga_parte_07_nov_12_2021.ipynb",
      "provenance": [],
      "collapsed_sections": [],
      "include_colab_link": true
    },
    "kernelspec": {
      "name": "python3",
      "display_name": "Python 3"
    },
    "language_info": {
      "name": "python"
    }
  },
  "cells": [
    {
      "cell_type": "markdown",
      "metadata": {
        "id": "view-in-github",
        "colab_type": "text"
      },
      "source": [
        "<a href=\"https://colab.research.google.com/github/ucfilho/vichebling2810/blob/main/Fruta_Bexiga/frutas_bexiga_parte_07_nov_12_2021.ipynb\" target=\"_parent\"><img src=\"https://colab.research.google.com/assets/colab-badge.svg\" alt=\"Open In Colab\"/></a>"
      ]
    },
    {
      "cell_type": "code",
      "metadata": {
        "id": "7ze3i4b9-WH1"
      },
      "source": [
        "# parte 1- le os arquivos e separa eles em a e b (a frutas deitadas e b sao as frusta em pe)\n",
        "# parte 2- usa o filtro\n",
        "# parte 3- calcula o volume : para um objeto\n",
        "# parte 4- para todos objetos\n",
        "# parte 5- explora tecnicas para melhorar o volume\n",
        "# parte 6 - adiciona o volume falso como coluna para X tentativa de melhorar calc\n",
        "# parte 7 - inicia calcular as areas\n",
        "# parte 8- identica a parte 7 mas em rotina"
      ],
      "execution_count": 1,
      "outputs": []
    },
    {
      "cell_type": "code",
      "metadata": {
        "id": "hW2vxhnRvPVz"
      },
      "source": [
        "from matplotlib import pyplot as plt\n",
        "from PIL import Image\n",
        "import numpy as np\n",
        "import pandas as pd\n",
        "import os \n",
        "import cv2\n",
        "import re, random\n",
        "from skimage import feature\n",
        "from sklearn.neural_network import MLPClassifier\n",
        "from sklearn import preprocessing\n",
        "from sklearn.model_selection import train_test_split\n",
        "from sklearn.metrics import classification_report\n",
        "import random\n",
        "from sklearn.neural_network import MLPRegressor\n",
        "from sklearn.model_selection import train_test_split\n",
        "from sklearn import preprocessing\n",
        "from sklearn.metrics import mean_squared_error\n",
        "from sklearn.metrics import r2_score "
      ],
      "execution_count": 2,
      "outputs": []
    },
    {
      "cell_type": "code",
      "metadata": {
        "colab": {
          "base_uri": "https://localhost:8080/"
        },
        "id": "TwhExglZvRuQ",
        "outputId": "2400c7d6-d0c2-48ed-bca8-80a1c91d861a"
      },
      "source": [
        "!gdown --id 1PbOf7-WA_t4FKOGkOgIi3dioOxaOr6Q_"
      ],
      "execution_count": 3,
      "outputs": [
        {
          "output_type": "stream",
          "name": "stdout",
          "text": [
            "Downloading...\n",
            "From: https://drive.google.com/uc?id=1PbOf7-WA_t4FKOGkOgIi3dioOxaOr6Q_\n",
            "To: /content/Bexigas.zip\n",
            "100% 229M/229M [00:01<00:00, 143MB/s]\n"
          ]
        }
      ]
    },
    {
      "cell_type": "code",
      "metadata": {
        "id": "jGJnpGo4viwU"
      },
      "source": [
        "import zipfile\n",
        "file_name = zipfile.ZipFile('Bexigas.zip', 'r')\n",
        "file_name.extractall()"
      ],
      "execution_count": 4,
      "outputs": []
    },
    {
      "cell_type": "code",
      "metadata": {
        "id": "yUVqk2GGvnCB"
      },
      "source": [
        "FILE='Bexigas.zip'\n",
        "img_name=[]\n",
        "x_original = [] \n",
        "\n",
        "ref ='jpg'\n",
        "data_file ='xlsx'\n",
        "\n",
        "with zipfile.ZipFile(FILE, \"r\") as f:\n",
        "    for name in f.namelist():\n",
        "      if(name[-3:]==ref):\n",
        "        img_name.append(name)\n",
        "        #x_original.append(cv2.resize(cv2.imread(name),(60,80)))\n",
        "        x_original.append(cv2.resize(cv2.imread(name,0),(60,80)))\n",
        "      else:\n",
        "        if(name[-4:] == data_file):\n",
        "          df =pd.read_excel(name)\n"
      ],
      "execution_count": 5,
      "outputs": []
    },
    {
      "cell_type": "code",
      "metadata": {
        "id": "0MklRIT77qD2"
      },
      "source": [
        "name_down=[]  # down representa as frutas deitadas\n",
        "original_down = [] \n",
        "name_up=[] # down representa as frutas em pe\n",
        "original_up= [] "
      ],
      "execution_count": 6,
      "outputs": []
    },
    {
      "cell_type": "code",
      "metadata": {
        "id": "33_sR26h7ldr"
      },
      "source": [
        "k = 0\n",
        "for name in img_name:\n",
        "  if(name[-5]=='a'):\n",
        "    name_up.append(name)\n",
        "    original_up.append(x_original[k])\n",
        "  else:\n",
        "    name_down.append(name)\n",
        "    original_down.append(x_original[k])\n",
        "  k = k +1\n"
      ],
      "execution_count": 7,
      "outputs": []
    },
    {
      "cell_type": "code",
      "metadata": {
        "id": "D-nQQ2PVGXM_"
      },
      "source": [
        "def get_dimension(img):\n",
        "  im = img\n",
        "  # Compute the Canny filter for two values of sigma\n",
        "  edges1 = feature.canny(im)\n",
        "  edges2 = feature.canny(im, sigma=3)\n",
        "  nrows,ncols =edges2.shape\n",
        "  Foto = np.ones((nrows,ncols))*255\n",
        "  for i in range(nrows):\n",
        "    for j in range(ncols):\n",
        "      if edges2[i,j] == True:\n",
        "        Foto[i,j]=0\n",
        "  Foto = Foto.astype(int)\n",
        "# calculo do raio horizontal\n",
        "  Quadrado = []\n",
        "  Raio = []\n",
        "  for i in range(nrows):\n",
        "    values = np.zeros(4)\n",
        "    k = -1\n",
        "    for j in range(1,ncols):\n",
        "      if(Foto[i,j-1]==255 and Foto[i,j]==0):\n",
        "        if(k<3):\n",
        "          k = k+1\n",
        "          values[k]=j\n",
        "    L = values[3] - values[0]\n",
        "    d = values[2] - values[1]\n",
        "    Quadrado.append(L)\n",
        "    Raio.append(d)\n",
        "  L = np.array(Quadrado).max()\n",
        "  Raio = np.array(Raio).max()\n",
        "  medida = Raio/L*14.5\n",
        "  return medida,Foto\n"
      ],
      "execution_count": 8,
      "outputs": []
    },
    {
      "cell_type": "code",
      "metadata": {
        "id": "7qgS1SiEhwQ2"
      },
      "source": [
        "(num,l,w)=np.array(original_down).shape"
      ],
      "execution_count": 9,
      "outputs": []
    },
    {
      "cell_type": "code",
      "metadata": {
        "id": "1kNAz7DNiLvK"
      },
      "source": [
        "dimensao =[]\n",
        "for i in range(num):\n",
        "  lista =[]\n",
        "  Ind = i\n",
        "  img= original_up[Ind]\n",
        "  medida1,foto = get_dimension(img)\n",
        "  lista.append(medida1)\n",
        "  img = img.transpose()\n",
        "  medida2,foto = get_dimension(img)\n",
        "  lista.append(medida2)\n",
        "  img2= original_down[Ind]\n",
        "  medida3,foto = get_dimension(img2)\n",
        "  lista.append(medida3)\n",
        "  img2 = img2.transpose()\n",
        "  medida4,foto = get_dimension(img2)\n",
        "  lista.append(medida4)\n",
        "  dimensao.append(lista)\n"
      ],
      "execution_count": 10,
      "outputs": []
    },
    {
      "cell_type": "code",
      "metadata": {
        "id": "x3FyKZ7dsFAP"
      },
      "source": [
        "def elipsoide(valores):\n",
        "  dif = np.zeros(4)\n",
        "  k = 0\n",
        "  ref =1E99\n",
        "  for i in range(2):\n",
        "    for j in range(2):\n",
        "      dif[k] = abs(valores[i]-valores[j+2])\n",
        "      if(ref > dif[k]):\n",
        "        ref = dif[k]\n",
        "        ind1=i # 0,1\n",
        "        ind2=j+2 # 2,3\n",
        "      k = k+1\n",
        "  b = (valores[ind1]+valores[ind2])/2\n",
        "  if(ind1 ==0):\n",
        "    a = valores[1]\n",
        "  else:\n",
        "    a = valores[0]\n",
        "  if(ind2 ==2):\n",
        "    c = valores[3]\n",
        "  else:\n",
        "    c = valores[2]\n",
        "  Vol = 4/3*np.pi*a*b*c\n",
        "\n",
        "  return Vol  \n",
        "  \n",
        "\n",
        "  "
      ],
      "execution_count": 11,
      "outputs": []
    },
    {
      "cell_type": "code",
      "metadata": {
        "id": "e1seB9bPoX-6"
      },
      "source": [
        "Volume = []\n",
        "X =[]\n",
        "for i in range(num):\n",
        "  valores = dimensao[i]\n",
        "  X.append(valores)\n",
        "  Vol = elipsoide(valores)\n",
        "  Volume.append(Vol)"
      ],
      "execution_count": 12,
      "outputs": []
    },
    {
      "cell_type": "code",
      "metadata": {
        "id": "GMonI9jWxiEd"
      },
      "source": [
        "#dimensao[0]"
      ],
      "execution_count": 13,
      "outputs": []
    },
    {
      "cell_type": "code",
      "metadata": {
        "id": "qPzPRhwuvMCO"
      },
      "source": [
        "y = df['Volume'].values\n",
        "#print(y)"
      ],
      "execution_count": 14,
      "outputs": []
    },
    {
      "cell_type": "code",
      "metadata": {
        "id": "sEg22wouzvLN"
      },
      "source": [
        "X = np.array(X)\n",
        "X =np.concatenate((X,np.array(Volume).reshape(num,1)),axis=1)\n",
        "y = np.array(y)\n",
        "y = y.reshape(-1, 1)\n",
        "X_train, X_test, y_train, y_test = train_test_split(X,y,test_size=0.10, shuffle=True, random_state=3)# 1"
      ],
      "execution_count": 15,
      "outputs": []
    },
    {
      "cell_type": "code",
      "metadata": {
        "id": "r-_TzHNM0f5x"
      },
      "source": [
        "scaler_X = preprocessing.MinMaxScaler((-1,1)).fit(X)\n",
        "scaler_Y = preprocessing.MinMaxScaler((-1,1)).fit(y)"
      ],
      "execution_count": 16,
      "outputs": []
    },
    {
      "cell_type": "code",
      "metadata": {
        "id": "UqGfoQ0y1FVz"
      },
      "source": [
        "X_train = scaler_X.transform(X_train)\n",
        "X_test = scaler_X.transform(X_test)\n",
        "y_train = scaler_Y.transform(y_train)\n",
        "y_test = scaler_Y.transform(y_test)"
      ],
      "execution_count": 17,
      "outputs": []
    },
    {
      "cell_type": "code",
      "metadata": {
        "id": "hCVm_LhQ10Ei"
      },
      "source": [
        "# define a rede neural \n",
        "N_Hidden= 20\n",
        "model = MLPRegressor(solver='lbfgs',activation='tanh',alpha=1e-5,hidden_layer_sizes=(N_Hidden), max_iter=1500,random_state=11 )"
      ],
      "execution_count": 18,
      "outputs": []
    },
    {
      "cell_type": "code",
      "metadata": {
        "colab": {
          "base_uri": "https://localhost:8080/"
        },
        "id": "bnDTlm2416Yp",
        "outputId": "6a232508-8c73-4b48-9826-eb91c2c31144"
      },
      "source": [
        "# treina a rede neural\n",
        "model.fit(X_train, y_train)"
      ],
      "execution_count": 19,
      "outputs": [
        {
          "output_type": "stream",
          "name": "stderr",
          "text": [
            "/usr/local/lib/python3.7/dist-packages/sklearn/neural_network/_multilayer_perceptron.py:1342: DataConversionWarning: A column-vector y was passed when a 1d array was expected. Please change the shape of y to (n_samples, ), for example using ravel().\n",
            "  y = column_or_1d(y, warn=True)\n",
            "/usr/local/lib/python3.7/dist-packages/sklearn/neural_network/_multilayer_perceptron.py:470: ConvergenceWarning: lbfgs failed to converge (status=1):\n",
            "STOP: TOTAL NO. of ITERATIONS REACHED LIMIT.\n",
            "\n",
            "Increase the number of iterations (max_iter) or scale the data as shown in:\n",
            "    https://scikit-learn.org/stable/modules/preprocessing.html\n",
            "  self.n_iter_ = _check_optimize_result(\"lbfgs\", opt_res, self.max_iter)\n"
          ]
        },
        {
          "output_type": "execute_result",
          "data": {
            "text/plain": [
              "MLPRegressor(activation='tanh', alpha=1e-05, batch_size='auto', beta_1=0.9,\n",
              "             beta_2=0.999, early_stopping=False, epsilon=1e-08,\n",
              "             hidden_layer_sizes=20, learning_rate='constant',\n",
              "             learning_rate_init=0.001, max_fun=15000, max_iter=1500,\n",
              "             momentum=0.9, n_iter_no_change=10, nesterovs_momentum=True,\n",
              "             power_t=0.5, random_state=11, shuffle=True, solver='lbfgs',\n",
              "             tol=0.0001, validation_fraction=0.1, verbose=False,\n",
              "             warm_start=False)"
            ]
          },
          "metadata": {},
          "execution_count": 19
        }
      ]
    },
    {
      "cell_type": "code",
      "metadata": {
        "id": "3rHg9pmw194a"
      },
      "source": [
        "# usa a rede neural treina em calculos para treino e teste\n",
        "y_calc_train=model.predict(X_train)\n",
        "y_calc_test=model.predict(X_test)"
      ],
      "execution_count": 20,
      "outputs": []
    },
    {
      "cell_type": "code",
      "metadata": {
        "id": "zyTUshp42H6A"
      },
      "source": [
        "# transforma dos dados calculados na forma original (nao normatizado)\n",
        "y_obs_train=scaler_Y.inverse_transform(np.array(y_train).reshape(-1,1))\n",
        "y_obs_test=scaler_Y.inverse_transform(np.array(y_test).reshape(-1,1))\n",
        "y_calc_train=scaler_Y.inverse_transform(y_calc_train.reshape(-1,1))\n",
        "y_calc_test=scaler_Y.inverse_transform(y_calc_test.reshape(-1,1))"
      ],
      "execution_count": 21,
      "outputs": []
    },
    {
      "cell_type": "code",
      "metadata": {
        "colab": {
          "base_uri": "https://localhost:8080/"
        },
        "id": "ce5e7nUT2I4Q",
        "outputId": "13821729-a65a-44be-8b09-770838ee0085"
      },
      "source": [
        "print(pd.DataFrame({'test calc':y_calc_test.ravel(),'test true':y_obs_test.ravel()}))"
      ],
      "execution_count": 22,
      "outputs": [
        {
          "output_type": "stream",
          "name": "stdout",
          "text": [
            "    test calc  test true\n",
            "0   17.934313       64.0\n",
            "1  159.313866       35.0\n",
            "2  152.122191       50.0\n",
            "3  158.414148       57.0\n",
            "4   44.145921       28.0\n",
            "5   43.783512       91.0\n",
            "6   51.469472       39.0\n",
            "7   80.936421       34.0\n",
            "8  104.234913       81.0\n",
            "9  277.055752       63.0\n"
          ]
        }
      ]
    },
    {
      "cell_type": "code",
      "metadata": {
        "colab": {
          "base_uri": "https://localhost:8080/",
          "height": 279
        },
        "id": "xA81rZeU2MA3",
        "outputId": "2293a008-e4a0-49fc-8e2f-7ecf8c52ee71"
      },
      "source": [
        "# expressa os dois dados em figura\n",
        "fig = plt.figure()\n",
        "ax1 = fig.add_subplot(111)\n",
        "ax1.scatter(y_obs_test,y_calc_test, s=10, c='b', marker=\"s\", label='teste')\n",
        "ax1.scatter(y_obs_train,y_calc_train, s=10, c='r', marker=\"o\", label='treino')\n",
        "plt.legend(loc='upper left')\n",
        "#plt.xlim([15,30])\n",
        "#plt.ylim([15,30])\n",
        "plt.ylabel('Y Calc')\n",
        "plt.xlabel('Y  Obs')\n",
        "plt.show()"
      ],
      "execution_count": 23,
      "outputs": [
        {
          "output_type": "display_data",
          "data": {
            "image/png": "[encoded data removed]",
            "text/plain": [
              "<Figure size 432x288 with 1 Axes>"
            ]
          },
          "metadata": {
            "needs_background": "light"
          }
        }
      ]
    },
    {
      "cell_type": "code",
      "metadata": {
        "colab": {
          "base_uri": "https://localhost:8080/"
        },
        "id": "W_V6XpU-2rer",
        "outputId": "a0f4b5a0-d174-41af-8388-5685997f67b7"
      },
      "source": [
        "mse=mean_squared_error(y_obs_test,y_calc_test)\n",
        "print(\"MSE teste=\",mse)\n",
        "R2=r2_score(y_obs_test,y_calc_test)\n",
        "print(\"R^2 teste=\",R2)"
      ],
      "execution_count": 24,
      "outputs": [
        {
          "output_type": "stream",
          "name": "stdout",
          "text": [
            "MSE teste= 8949.808481159576\n",
            "R^2 teste= -21.56861125973264\n"
          ]
        }
      ]
    },
    {
      "cell_type": "code",
      "metadata": {
        "colab": {
          "base_uri": "https://localhost:8080/"
        },
        "id": "SPG7mbQk3Fuq",
        "outputId": "b8da59e5-23db-4d10-d13f-d283fa7ba8b6"
      },
      "source": [
        "mse=mean_squared_error(y_obs_train,y_calc_train)\n",
        "print(\"MSE treino=\",mse)\n",
        "R2=r2_score(y_obs_train,y_calc_train)\n",
        "print(\"R^2 treino=\",R2)"
      ],
      "execution_count": 25,
      "outputs": [
        {
          "output_type": "stream",
          "name": "stdout",
          "text": [
            "MSE treino= 10.164757682316644\n",
            "R^2 treino= 0.9850573748078709\n"
          ]
        }
      ]
    },
    {
      "cell_type": "code",
      "metadata": {
        "id": "y9l0VtZjsPsr"
      },
      "source": [
        "def area(img):\n",
        "  (rows, cols) =img.shape\n",
        "\n",
        "  img_fruit = np.zeros(img.shape,np.uint8) \n",
        "\n",
        "  for i in range(rows):\n",
        "    for j in range(cols):\n",
        "      if(img[i,j]>100):\n",
        "        img[i,j]=0\n",
        "\n",
        "\n",
        "  for i in range(rows):\n",
        "    for j in range(cols):\n",
        "      if(img[i,j]>0):\n",
        "        img[i,j]=255\n",
        "        img_fruit[i,j]=255\n",
        "\n",
        "  xi=0;xf=0;yi=0;yf=0;\n",
        "  jref=int(cols/2)\n",
        "  iref=int(rows/2)\n",
        "\n",
        "  for i in range(rows):\n",
        "    j = jref\n",
        "    if(img[i,j]>0):\n",
        "      if(xi==0):\n",
        "        xi = i\n",
        "      else:\n",
        "        xf = i\n",
        "  for j in range(cols):\n",
        "    i = iref\n",
        "    if(img[i,j]>0):\n",
        "      if(yi==0):\n",
        "        yi = j\n",
        "      else:\n",
        "        yf = j\n",
        "\n",
        "  for i in range(rows):\n",
        "    for j in range(cols):\n",
        "      if(i > xi and i < xf and j>yi and j < yf):\n",
        "        img[i,j]=255\n",
        "\n",
        "    area = 1-np.sum(img_fruit.ravel())/np.sum(img.ravel())\n",
        "\n",
        "  return img_fruit, img, area"
      ],
      "execution_count": 26,
      "outputs": []
    },
    {
      "cell_type": "code",
      "metadata": {
        "colab": {
          "base_uri": "https://localhost:8080/"
        },
        "id": "DTcfHyr_uWtz",
        "outputId": "b526a4f1-26c6-4679-bde7-d5863818f677"
      },
      "source": [
        "img = original_down[5]\n",
        "\n",
        "img_fruit, img_total, area = area(img)\n",
        "\n",
        "print('area=',area)\n"
      ],
      "execution_count": 27,
      "outputs": [
        {
          "output_type": "stream",
          "name": "stdout",
          "text": [
            "area= 0.11362778406946017\n"
          ]
        }
      ]
    },
    {
      "cell_type": "code",
      "metadata": {
        "colab": {
          "base_uri": "https://localhost:8080/",
          "height": 285
        },
        "id": "DsNnkxYf8NAB",
        "outputId": "e47402a4-162c-4b00-b63a-3cf932cb44a9"
      },
      "source": [
        "RGB_img = cv2.cvtColor(img_fruit, cv2.COLOR_BGR2RGB)\n",
        "fruit = np.sum(RGB_img.ravel())\n",
        "plt.imshow(RGB_img)"
      ],
      "execution_count": 28,
      "outputs": [
        {
          "output_type": "execute_result",
          "data": {
            "text/plain": [
              "<matplotlib.image.AxesImage at 0x7f6c23af5110>"
            ]
          },
          "metadata": {},
          "execution_count": 28
        },
        {
          "output_type": "display_data",
          "data": {
            "image/png": "[encoded data removed]",
            "text/plain": [
              "<Figure size 432x288 with 1 Axes>"
            ]
          },
          "metadata": {
            "needs_background": "light"
          }
        }
      ]
    },
    {
      "cell_type": "code",
      "metadata": {
        "colab": {
          "base_uri": "https://localhost:8080/",
          "height": 285
        },
        "id": "4aLJDWMU8OmY",
        "outputId": "6ab41408-c671-4c64-df79-060e07c843ca"
      },
      "source": [
        "RGB_img = cv2.cvtColor(img_total, cv2.COLOR_BGR2RGB)\n",
        "plt.imshow(RGB_img)"
      ],
      "execution_count": 29,
      "outputs": [
        {
          "output_type": "execute_result",
          "data": {
            "text/plain": [
              "<matplotlib.image.AxesImage at 0x7f6c23ae3190>"
            ]
          },
          "metadata": {},
          "execution_count": 29
        },
        {
          "output_type": "display_data",
          "data": {
            "image/png": "[encoded data removed]",
            "text/plain": [
              "<Figure size 432x288 with 1 Axes>"
            ]
          },
          "metadata": {
            "needs_background": "light"
          }
        }
      ]
    },
    {
      "cell_type": "code",
      "metadata": {
        "colab": {
          "base_uri": "https://localhost:8080/"
        },
        "id": "Wb2Lupqu-tEj",
        "outputId": "dc0def1a-e277-4ee9-e557-4ed1e81eb76c"
      },
      "source": [
        "total = np.sum(RGB_img.ravel())\n",
        "print('frac',(total -fruit)/total)"
      ],
      "execution_count": 30,
      "outputs": [
        {
          "output_type": "stream",
          "name": "stdout",
          "text": [
            "frac 0.11362778406946017\n"
          ]
        }
      ]
    }
  ]
}